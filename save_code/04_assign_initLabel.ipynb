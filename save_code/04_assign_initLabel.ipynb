{
 "cells": [
  {
   "cell_type": "markdown",
   "metadata": {},
   "source": [
    "#### 使用上一步初步训练的模型来为更多的数据打上初步标签，再进行人工处理划分"
   ]
  },
  {
   "cell_type": "code",
   "execution_count": 2,
   "metadata": {},
   "outputs": [],
   "source": [
    "import numpy as np\n",
    "import pandas as pd\n",
    "import matplotlib.pyplot as plt\n",
    "from scipy import signal\n",
    "from scipy.stats import pearsonr\n",
    "import os\n",
    "from sklearn.cluster import KMeans\n",
    "from sklearn.preprocessing import StandardScaler\n",
    "\n",
    "from sklearn.model_selection import train_test_split\n",
    "from sklearn.metrics import confusion_matrix, accuracy_score\n",
    "from tqdm import tqdm\n",
    " \n",
    "import matplotlib as mpl\n",
    "mpl.rcParams['agg.path.chunksize'] = 10000\n",
    "from joblib import dump, load"
   ]
  },
  {
   "cell_type": "code",
   "execution_count": 3,
   "metadata": {},
   "outputs": [],
   "source": [
    "fs=100\n",
    "def extrtact_features(mse, Pxx_den):\n",
    "    # 均值 方差\n",
    "    f_m=np.mean(Pxx_den)\n",
    "    f_std= np.std(Pxx_den)\n",
    "    # 四分位距 number of outlier\n",
    "    Q1 = np.percentile(Pxx_den, 25)\n",
    "    Q3 = np.percentile(Pxx_den, 75)\n",
    "    IQR = Q3 - Q1\n",
    "    num_outlier = sum((Pxx_den < (Q1 - 1.5 * IQR)) | (Pxx_den > (Q3 + 1.5 * IQR)))\n",
    "    #MSE\n",
    "    f_mse=sum(np.square(Pxx_den-np.mean(Pxx_den)))/len(Pxx_den)\n",
    "    \n",
    "    p_mse = sum(np.square(Pxx_den - np.mean(Pxx_den))) / len(Pxx_den)\n",
    "    \n",
    "    #Max diff\n",
    "    f_md=np.max(Pxx_den)-np.min(Pxx_den)\n",
    "    return mse,f_m,f_std,IQR,num_outlier,p_mse,f_mse,f_md\n",
    "\n",
    "def all_features(ex,ey,ez):\n",
    "    ex_mse = sum(np.square(ex - np.mean(ex))) / len(ex)\n",
    "    ey_mse = sum(np.square(ey - np.mean(ey))) / len(ey)\n",
    "    ez_mse = sum(np.square(ez - np.mean(ez))) / len(ez)\n",
    "    ex,ey,ez=ex-np.mean(ex), ey-np.mean(ey), ez-np.mean(ez)\n",
    "    sos = signal.butter(2, 35, 'lowpass',fs=100,output='sos')\n",
    "    ex = signal.sosfilt(sos, ex)\n",
    "    ey = signal.sosfilt(sos, ey)\n",
    "    ez = signal.sosfilt(sos, ez)\n",
    "    #calculate PSD\n",
    "    fre, Pxx_den = signal.periodogram(ex, fs)\n",
    "    Pxx_den=10*np.log10(abs(Pxx_den))[1:]\n",
    "    fre, Pyy_den = signal.periodogram(ey, fs)\n",
    "    Pyy_den=10*np.log10(abs(Pyy_den))[1:]\n",
    "    fre, Pzz_den = signal.periodogram(ez, fs)\n",
    "    Pzz_den=10*np.log10(abs(Pzz_den))[1:]\n",
    "    fx=extrtact_features(ex_mse, Pxx_den)\n",
    "    fy=extrtact_features(ey_mse, Pyy_den)\n",
    "    fz=extrtact_features(ez_mse, Pzz_den)\n",
    "    return [fx,fy,fz]"
   ]
  },
  {
   "cell_type": "code",
   "execution_count": 5,
   "metadata": {},
   "outputs": [],
   "source": [
    "# 读取需要划分的数据，并提取特征\n",
    "path='C:\\xxx\\dataset\\EQ_20210829_130323\\\\'\n",
    "files=os.listdir(path)\n",
    "files.sort()\n",
    "\n",
    "X=[]\n",
    "for i in tqdm(range(len(files))):\n",
    "    f=path+files[i]\n",
    "    df=pd.read_csv(f)\n",
    "    df=np.array(df)[:,:3]\n",
    "    ex,ey,ez=df[:,0],df[:,1],df[:,2]\n",
    "    X.append(all_features(ex,ey,ez))\n",
    "X=np.array(X)\n",
    "X=X.reshape(X.shape[0],-1)\n"
   ]
  },
  {
   "cell_type": "code",
   "execution_count": 7,
   "metadata": {},
   "outputs": [],
   "source": [
    "# 部分异常值处理\n",
    "idx = np.isinf(X)\n",
    "X[idx] = 0 \n",
    "idx = np.isnan(X)\n",
    "X[idx] = 0 "
   ]
  },
  {
   "cell_type": "code",
   "execution_count": 84,
   "metadata": {},
   "outputs": [],
   "source": [
    "from sklearn.ensemble import RandomForestClassifier\n",
    "x_train, x_test, y_train, y_test = train_test_split(X,\n",
    "                                                    Y,\n",
    "                                                    test_size=0.3,\n",
    "                                                    random_state=42)\n",
    "\n",
    "clf = RandomForestClassifier(n_estimators=15)\n",
    "clf.fit(x_train, y_train)\n",
    "label = clf.predict(x_test)"
   ]
  },
  {
   "cell_type": "code",
   "execution_count": 8,
   "metadata": {},
   "outputs": [],
   "source": [
    "# 读取模型并预测没有标签的数据\n",
    "from joblib import dump, load\n",
    "rf=load('./models/gboost.model')\n",
    "label=rf.predict(X)"
   ]
  },
  {
   "cell_type": "code",
   "execution_count": 9,
   "metadata": {},
   "outputs": [],
   "source": [
    "# 保存预测数据的标签\n",
    "np.save('./label/init_label/labels_8_29',label)"
   ]
  },
  {
   "cell_type": "code",
   "execution_count": null,
   "metadata": {},
   "outputs": [],
   "source": []
  },
  {
   "cell_type": "code",
   "execution_count": null,
   "metadata": {},
   "outputs": [],
   "source": []
  },
  {
   "cell_type": "code",
   "execution_count": null,
   "metadata": {},
   "outputs": [],
   "source": []
  }
 ],
 "metadata": {
  "interpreter": {
   "hash": "63fd5069d213b44bf678585dea6b12cceca9941eaf7f819626cde1f2670de90d"
  },
  "kernelspec": {
   "display_name": "Python 3",
   "language": "python",
   "name": "python3"
  },
  "language_info": {
   "codemirror_mode": {
    "name": "ipython",
    "version": 3
   },
   "file_extension": ".py",
   "mimetype": "text/x-python",
   "name": "python",
   "nbconvert_exporter": "python",
   "pygments_lexer": "ipython3",
   "version": "3.8.3"
  },
  "latex_envs": {
   "LaTeX_envs_menu_present": true,
   "autoclose": false,
   "autocomplete": true,
   "bibliofile": "biblio.bib",
   "cite_by": "apalike",
   "current_citInitial": 1,
   "eqLabelWithNumbers": true,
   "eqNumInitial": 1,
   "hotkeys": {
    "equation": "Ctrl-E",
    "itemize": "Ctrl-I"
   },
   "labels_anchors": false,
   "latex_user_defs": false,
   "report_style_numbering": false,
   "user_envs_cfg": false
  },
  "varInspector": {
   "cols": {
    "lenName": 16,
    "lenType": 16,
    "lenVar": 40
   },
   "kernels_config": {
    "python": {
     "delete_cmd_postfix": "",
     "delete_cmd_prefix": "del ",
     "library": "var_list.py",
     "varRefreshCmd": "print(var_dic_list())"
    },
    "r": {
     "delete_cmd_postfix": ") ",
     "delete_cmd_prefix": "rm(",
     "library": "var_list.r",
     "varRefreshCmd": "cat(var_dic_list()) "
    }
   },
   "types_to_exclude": [
    "module",
    "function",
    "builtin_function_or_method",
    "instance",
    "_Feature"
   ],
   "window_display": false
  }
 },
 "nbformat": 4,
 "nbformat_minor": 2
}
