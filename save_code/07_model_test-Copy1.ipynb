{
 "cells": [
  {
   "cell_type": "markdown",
   "metadata": {},
   "source": [
    "### 根据之前分好的数据集，提取特征，使用基于CNN+MLP的神经网络测试效果\n",
    "### 训练好模型后，预测另外一天的数据，测试表现\n",
    "### 由于使用的数据量不同，后续结果会有变化"
   ]
  },
  {
   "cell_type": "code",
   "execution_count": 3,
   "metadata": {},
   "outputs": [],
   "source": [
    "import numpy as np\n",
    "import pandas as pd\n",
    "import matplotlib.pyplot as plt\n",
    "from scipy import signal\n",
    "import os,time\n",
    "from sklearn.preprocessing import StandardScaler\n",
    "from sklearn.model_selection import train_test_split\n",
    "from tqdm import tqdm\n",
    "\n",
    "from joblib import dump, load\n",
    "import librosa.display\n",
    "from utils import data_process, visualize\n",
    "from utils.utils import train, test, summary, setup_seed\n",
    "from utils.models import Att_CNN, CNN\n",
    "\n",
    "import torch\n",
    "import torch.nn as nn\n",
    "import torch.nn.functional as F\n",
    "import torch.optim as optim\n",
    "from torch.utils.data import TensorDataset, DataLoader\n",
    "\n",
    "os.environ['TF_CPP_MIN_LOG_LEVEL'] = '2'\n",
    "os.environ[\"CUDA_DEVICE_ORDER\"] = \"PCI_BUS_ID\"\n",
    "os.environ[\"CUDA_VISIBLE_DEVICES\"] = \"6\""
   ]
  },
  {
   "cell_type": "code",
   "execution_count": 64,
   "metadata": {},
   "outputs": [
    {
     "data": {
      "text/plain": [
       "0    1288\n",
       "1     571\n",
       "dtype: int64"
      ]
     },
     "execution_count": 64,
     "metadata": {},
     "output_type": "execute_result"
    }
   ],
   "source": [
    "# 读取数据\n",
    "X =np.load('/home/yuanshao/EQ_Place/code/data/X_8_29.npy', allow_pickle=True)\n",
    "Y =np.load('/home/yuanshao/EQ_Place/code/data/Y_8_29.npy')\n",
    "\n",
    "pd.value_counts(Y)"
   ]
  },
  {
   "cell_type": "code",
   "execution_count": 6,
   "metadata": {},
   "outputs": [],
   "source": [
    "# 统一长度\n",
    "\n",
    "for i in range(len(X)):\n",
    "    if X[i][0].shape[0]!=7201:\n",
    "        X[i][0]=data_process.data_resample( X[i][0], 7201)\n",
    "        X[i][1]=data_process.data_resample( X[i][1], 7201)\n",
    "        X[i][2]=data_process.data_resample( X[i][2], 7201)"
   ]
  },
  {
   "cell_type": "code",
   "execution_count": 7,
   "metadata": {},
   "outputs": [
    {
     "name": "stderr",
     "output_type": "stream",
     "text": [
      "100%|██████████| 1859/1859 [00:39<00:00, 46.64it/s]\n"
     ]
    }
   ],
   "source": [
    "# 特征提取\n",
    "feature = []\n",
    "for i in tqdm(range(len(X))):\n",
    "    ex, ey, ez = X[i][0], X[i][1], X[i][2]\n",
    "    iqr_x = data_process.cal_IQR(ex)\n",
    "    iqr_y = data_process.cal_IQR(ey)\n",
    "    iqr_z = data_process.cal_IQR(ez)\n",
    "    zcr_x = data_process.ZCR(ex)\n",
    "    zcr_y = data_process.ZCR(ey)\n",
    "    zcr_z = data_process.ZCR(ez)\n",
    "    cav=data_process.CAV([ex,ey,ez])\n",
    "    feature.append([iqr_x, iqr_y, iqr_z ,zcr_x, zcr_y, zcr_z, cav])\n",
    "feature=np.array(feature)\n",
    "feature=feature[:,:,np.newaxis,:]  \n",
    "# np.save('feature_8_29',feature)"
   ]
  },
  {
   "cell_type": "code",
   "execution_count": 5,
   "metadata": {},
   "outputs": [
    {
     "data": {
      "text/plain": [
       "(1859, 7, 1, 36)"
      ]
     },
     "execution_count": 5,
     "metadata": {},
     "output_type": "execute_result"
    }
   ],
   "source": [
    "feature.shape"
   ]
  },
  {
   "cell_type": "code",
   "execution_count": 8,
   "metadata": {},
   "outputs": [],
   "source": [
    "# X = np.load('./data/feature_8_29.npy')\n",
    "# Y =np.load('/home/xxx/EQ_Place/code/data/Y_8_29.npy')\n",
    "x_train, x_test, y_train, y_test = train_test_split(feature, Y,test_size=0.2, \n",
    "                                                     random_state=1)\n",
    "\n",
    "\n",
    "x_train = torch.from_numpy(x_train).float()\n",
    "y_train = torch.from_numpy(y_train).long()\n",
    "\n",
    "x_test = torch.from_numpy(x_test).float()\n",
    "y_test = torch.from_numpy(y_test).long()\n",
    "traindata =TensorDataset(x_train,y_train)\n",
    "testdata = TensorDataset(x_test,y_test)\n",
    "train_loader = DataLoader(traindata,batch_size = 256,shuffle=True)\n",
    "test_loader = DataLoader(testdata,batch_size=256,shuffle=True)"
   ]
  },
  {
   "cell_type": "code",
   "execution_count": 9,
   "metadata": {},
   "outputs": [
    {
     "data": {
      "text/plain": [
       "torch.Size([372, 7, 1, 36])"
      ]
     },
     "execution_count": 9,
     "metadata": {},
     "output_type": "execute_result"
    }
   ],
   "source": [
    "x_test.shape"
   ]
  },
  {
   "cell_type": "code",
   "execution_count": 10,
   "metadata": {
    "scrolled": true
   },
   "outputs": [
    {
     "name": "stdout",
     "output_type": "stream",
     "text": [
      "Train Epoch: 1, Average Loss: 0.6628\n",
      "time 0.1 sec:\n",
      "Test set: Average loss: 0.6165, Accuracy: 261/372 (70.16%)\n",
      "\n",
      "Train Epoch: 2, Average Loss: 0.6239\n",
      "time 0.1 sec:\n",
      "Test set: Average loss: 0.5983, Accuracy: 261/372 (70.16%)\n",
      "\n",
      "Train Epoch: 3, Average Loss: 0.6099\n",
      "time 0.1 sec:\n",
      "Test set: Average loss: 0.5823, Accuracy: 262/372 (70.43%)\n",
      "\n",
      "Train Epoch: 4, Average Loss: 0.5938\n",
      "time 0.1 sec:\n",
      "Test set: Average loss: 0.5584, Accuracy: 279/372 (75.00%)\n",
      "\n",
      "Train Epoch: 5, Average Loss: 0.5644\n",
      "time 0.1 sec:\n",
      "Test set: Average loss: 0.5309, Accuracy: 282/372 (75.81%)\n",
      "\n",
      "Train Epoch: 6, Average Loss: 0.5439\n",
      "time 0.1 sec:\n",
      "Test set: Average loss: 0.5139, Accuracy: 278/372 (74.73%)\n",
      "\n",
      "Train Epoch: 7, Average Loss: 0.5385\n",
      "time 0.1 sec:\n",
      "Test set: Average loss: 0.5415, Accuracy: 264/372 (70.97%)\n",
      "\n",
      "Train Epoch: 8, Average Loss: 0.5496\n",
      "time 0.1 sec:\n",
      "Test set: Average loss: 0.5168, Accuracy: 280/372 (75.27%)\n",
      "\n",
      "Train Epoch: 9, Average Loss: 0.5268\n",
      "time 0.1 sec:\n",
      "Test set: Average loss: 0.5148, Accuracy: 284/372 (76.34%)\n",
      "\n",
      "Train Epoch: 10, Average Loss: 0.5308\n",
      "time 0.1 sec:\n",
      "Test set: Average loss: 0.5107, Accuracy: 285/372 (76.61%)\n",
      "\n",
      "Train Epoch: 11, Average Loss: 0.5254\n",
      "time 0.1 sec:\n",
      "Test set: Average loss: 0.5078, Accuracy: 286/372 (76.88%)\n",
      "\n",
      "Train Epoch: 12, Average Loss: 0.5204\n",
      "time 0.1 sec:\n",
      "Test set: Average loss: 0.5276, Accuracy: 269/372 (72.31%)\n",
      "\n",
      "Train Epoch: 13, Average Loss: 0.5233\n",
      "time 0.1 sec:\n",
      "Test set: Average loss: 0.5133, Accuracy: 281/372 (75.54%)\n",
      "\n",
      "Train Epoch: 14, Average Loss: 0.5244\n",
      "time 0.1 sec:\n",
      "Test set: Average loss: 0.5111, Accuracy: 278/372 (74.73%)\n",
      "\n",
      "Train Epoch: 15, Average Loss: 0.5069\n",
      "time 0.1 sec:\n",
      "Test set: Average loss: 0.5008, Accuracy: 284/372 (76.34%)\n",
      "\n",
      "Train Epoch: 16, Average Loss: 0.4984\n",
      "time 0.1 sec:\n",
      "Test set: Average loss: 0.4962, Accuracy: 287/372 (77.15%)\n",
      "\n",
      "Train Epoch: 17, Average Loss: 0.4995\n",
      "time 0.1 sec:\n",
      "Test set: Average loss: 0.4990, Accuracy: 281/372 (75.54%)\n",
      "\n",
      "Train Epoch: 18, Average Loss: 0.4958\n",
      "time 0.1 sec:\n",
      "Test set: Average loss: 0.4880, Accuracy: 286/372 (76.88%)\n",
      "\n",
      "Train Epoch: 19, Average Loss: 0.4879\n",
      "time 0.1 sec:\n",
      "Test set: Average loss: 0.4875, Accuracy: 287/372 (77.15%)\n",
      "\n",
      "Train Epoch: 20, Average Loss: 0.4859\n",
      "time 0.1 sec:\n",
      "Test set: Average loss: 0.4828, Accuracy: 291/372 (78.23%)\n",
      "\n",
      "Train Epoch: 21, Average Loss: 0.4833\n",
      "time 0.1 sec:\n",
      "Test set: Average loss: 0.4980, Accuracy: 288/372 (77.42%)\n",
      "\n",
      "Train Epoch: 22, Average Loss: 0.4996\n",
      "time 0.1 sec:\n",
      "Test set: Average loss: 0.5006, Accuracy: 285/372 (76.61%)\n",
      "\n",
      "Train Epoch: 23, Average Loss: 0.5011\n",
      "time 0.1 sec:\n",
      "Test set: Average loss: 0.4885, Accuracy: 291/372 (78.23%)\n",
      "\n",
      "Train Epoch: 24, Average Loss: 0.4842\n",
      "time 0.1 sec:\n",
      "Test set: Average loss: 0.4805, Accuracy: 292/372 (78.49%)\n",
      "\n",
      "Train Epoch: 25, Average Loss: 0.4744\n",
      "time 0.1 sec:\n",
      "Test set: Average loss: 0.4790, Accuracy: 291/372 (78.23%)\n",
      "\n",
      "Train Epoch: 26, Average Loss: 0.4804\n",
      "time 0.1 sec:\n",
      "Test set: Average loss: 0.5151, Accuracy: 287/372 (77.15%)\n",
      "\n",
      "Train Epoch: 27, Average Loss: 0.5136\n",
      "time 0.1 sec:\n",
      "Test set: Average loss: 0.5162, Accuracy: 288/372 (77.42%)\n",
      "\n",
      "Train Epoch: 28, Average Loss: 0.4838\n",
      "time 0.1 sec:\n",
      "Test set: Average loss: 0.4832, Accuracy: 294/372 (79.03%)\n",
      "\n",
      "Train Epoch: 29, Average Loss: 0.4695\n",
      "time 0.1 sec:\n",
      "Test set: Average loss: 0.4982, Accuracy: 287/372 (77.15%)\n",
      "\n",
      "Train Epoch: 30, Average Loss: 0.4800\n",
      "time 0.1 sec:\n",
      "Test set: Average loss: 0.4530, Accuracy: 300/372 (80.65%)\n",
      "\n",
      "Train Epoch: 31, Average Loss: 0.4507\n",
      "time 0.1 sec:\n",
      "Test set: Average loss: 0.4469, Accuracy: 299/372 (80.38%)\n",
      "\n",
      "Train Epoch: 32, Average Loss: 0.4454\n",
      "time 0.1 sec:\n",
      "Test set: Average loss: 0.4415, Accuracy: 305/372 (81.99%)\n",
      "\n",
      "Train Epoch: 33, Average Loss: 0.4419\n",
      "time 0.1 sec:\n",
      "Test set: Average loss: 0.4552, Accuracy: 302/372 (81.18%)\n",
      "\n",
      "Train Epoch: 34, Average Loss: 0.4213\n",
      "time 0.1 sec:\n",
      "Test set: Average loss: 0.4169, Accuracy: 307/372 (82.53%)\n",
      "\n",
      "Train Epoch: 35, Average Loss: 0.4084\n",
      "time 0.1 sec:\n",
      "Test set: Average loss: 0.4095, Accuracy: 310/372 (83.33%)\n",
      "\n",
      "Train Epoch: 36, Average Loss: 0.4041\n",
      "time 0.1 sec:\n",
      "Test set: Average loss: 0.4307, Accuracy: 314/372 (84.41%)\n",
      "\n",
      "Train Epoch: 37, Average Loss: 0.4368\n",
      "time 0.1 sec:\n",
      "Test set: Average loss: 0.4595, Accuracy: 300/372 (80.65%)\n",
      "\n",
      "Train Epoch: 38, Average Loss: 0.4254\n",
      "time 0.1 sec:\n",
      "Test set: Average loss: 0.4170, Accuracy: 308/372 (82.80%)\n",
      "\n",
      "Train Epoch: 39, Average Loss: 0.3984\n",
      "time 0.1 sec:\n",
      "Test set: Average loss: 0.3943, Accuracy: 311/372 (83.60%)\n",
      "\n",
      "Train Epoch: 40, Average Loss: 0.4072\n",
      "time 0.1 sec:\n",
      "Test set: Average loss: 0.4774, Accuracy: 299/372 (80.38%)\n",
      "\n",
      "Train Epoch: 41, Average Loss: 0.4461\n",
      "time 0.1 sec:\n",
      "Test set: Average loss: 0.4559, Accuracy: 299/372 (80.38%)\n",
      "\n",
      "Train Epoch: 42, Average Loss: 0.4602\n",
      "time 0.1 sec:\n",
      "Test set: Average loss: 0.4575, Accuracy: 310/372 (83.33%)\n",
      "\n",
      "Train Epoch: 43, Average Loss: 0.4437\n",
      "time 0.1 sec:\n",
      "Test set: Average loss: 0.4288, Accuracy: 310/372 (83.33%)\n",
      "\n",
      "Train Epoch: 44, Average Loss: 0.4145\n",
      "time 0.1 sec:\n",
      "Test set: Average loss: 0.4258, Accuracy: 311/372 (83.60%)\n",
      "\n",
      "Train Epoch: 45, Average Loss: 0.3978\n",
      "time 0.1 sec:\n",
      "Test set: Average loss: 0.3820, Accuracy: 315/372 (84.68%)\n",
      "\n",
      "Train Epoch: 46, Average Loss: 0.3713\n",
      "time 0.1 sec:\n",
      "Test set: Average loss: 0.3742, Accuracy: 317/372 (85.22%)\n",
      "\n",
      "Train Epoch: 47, Average Loss: 0.3880\n",
      "time 0.1 sec:\n",
      "Test set: Average loss: 0.4194, Accuracy: 309/372 (83.06%)\n",
      "\n",
      "Train Epoch: 48, Average Loss: 0.3708\n",
      "time 0.0 sec:\n",
      "Test set: Average loss: 0.3818, Accuracy: 318/372 (85.48%)\n",
      "\n",
      "Train Epoch: 49, Average Loss: 0.3634\n",
      "time 0.0 sec:\n",
      "Test set: Average loss: 0.3703, Accuracy: 313/372 (84.14%)\n",
      "\n",
      "Train Epoch: 50, Average Loss: 0.3524\n",
      "time 0.0 sec:\n",
      "Test set: Average loss: 0.3572, Accuracy: 322/372 (86.56%)\n",
      "\n",
      "Train Epoch: 51, Average Loss: 0.4727\n",
      "time 0.1 sec:\n",
      "Test set: Average loss: 0.4926, Accuracy: 298/372 (80.11%)\n",
      "\n",
      "Train Epoch: 52, Average Loss: 0.4443\n",
      "time 0.0 sec:\n",
      "Test set: Average loss: 0.4644, Accuracy: 304/372 (81.72%)\n",
      "\n",
      "Train Epoch: 53, Average Loss: 0.4258\n",
      "time 0.0 sec:\n",
      "Test set: Average loss: 0.4341, Accuracy: 304/372 (81.72%)\n",
      "\n",
      "Train Epoch: 54, Average Loss: 0.4140\n",
      "time 0.0 sec:\n",
      "Test set: Average loss: 0.4142, Accuracy: 315/372 (84.68%)\n",
      "\n",
      "Train Epoch: 55, Average Loss: 0.3866\n",
      "time 0.0 sec:\n",
      "Test set: Average loss: 0.3842, Accuracy: 312/372 (83.87%)\n",
      "\n",
      "Train Epoch: 56, Average Loss: 0.3639\n",
      "time 0.1 sec:\n",
      "Test set: Average loss: 0.3552, Accuracy: 316/372 (84.95%)\n",
      "\n",
      "Train Epoch: 57, Average Loss: 0.3483\n",
      "time 0.0 sec:\n",
      "Test set: Average loss: 0.3726, Accuracy: 316/372 (84.95%)\n",
      "\n",
      "Train Epoch: 58, Average Loss: 0.3662\n",
      "time 0.0 sec:\n",
      "Test set: Average loss: 0.4038, Accuracy: 314/372 (84.41%)\n",
      "\n",
      "Train Epoch: 59, Average Loss: 0.3839\n",
      "time 0.0 sec:\n",
      "Test set: Average loss: 0.4043, Accuracy: 313/372 (84.14%)\n",
      "\n",
      "Train Epoch: 60, Average Loss: 0.3491\n",
      "time 0.0 sec:\n",
      "Test set: Average loss: 0.3778, Accuracy: 316/372 (84.95%)\n",
      "\n",
      "Train Epoch: 61, Average Loss: 0.3598\n",
      "time 0.0 sec:\n",
      "Test set: Average loss: 0.4158, Accuracy: 319/372 (85.75%)\n",
      "\n",
      "Train Epoch: 62, Average Loss: 0.3595\n",
      "time 0.0 sec:\n",
      "Test set: Average loss: 0.3597, Accuracy: 319/372 (85.75%)\n",
      "\n",
      "Train Epoch: 63, Average Loss: 0.3365\n",
      "time 0.0 sec:\n",
      "Test set: Average loss: 0.3598, Accuracy: 316/372 (84.95%)\n",
      "\n",
      "Train Epoch: 64, Average Loss: 0.3384\n",
      "time 0.0 sec:\n",
      "Test set: Average loss: 0.3442, Accuracy: 321/372 (86.29%)\n",
      "\n",
      "Train Epoch: 65, Average Loss: 0.3203\n",
      "time 0.0 sec:\n",
      "Test set: Average loss: 0.3463, Accuracy: 323/372 (86.83%)\n",
      "\n",
      "Train Epoch: 66, Average Loss: 0.3258\n",
      "time 0.0 sec:\n",
      "Test set: Average loss: 0.3433, Accuracy: 323/372 (86.83%)\n",
      "\n",
      "Train Epoch: 67, Average Loss: 0.3093\n",
      "time 0.0 sec:\n",
      "Test set: Average loss: 0.3304, Accuracy: 324/372 (87.10%)\n",
      "\n",
      "Train Epoch: 68, Average Loss: 0.3043\n",
      "time 0.0 sec:\n",
      "Test set: Average loss: 0.3255, Accuracy: 331/372 (88.98%)\n",
      "\n",
      "Train Epoch: 69, Average Loss: 0.3257\n",
      "time 0.0 sec:\n",
      "Test set: Average loss: 0.3525, Accuracy: 323/372 (86.83%)\n",
      "\n",
      "Train Epoch: 70, Average Loss: 0.3528\n",
      "time 0.0 sec:\n",
      "Test set: Average loss: 0.4475, Accuracy: 313/372 (84.14%)\n",
      "\n",
      "Train Epoch: 71, Average Loss: 0.3625\n",
      "time 0.0 sec:\n",
      "Test set: Average loss: 0.3585, Accuracy: 320/372 (86.02%)\n",
      "\n",
      "Train Epoch: 72, Average Loss: 0.3293\n",
      "time 0.0 sec:\n",
      "Test set: Average loss: 0.3350, Accuracy: 326/372 (87.63%)\n",
      "\n",
      "Train Epoch: 73, Average Loss: 0.3107\n",
      "time 0.0 sec:\n",
      "Test set: Average loss: 0.3073, Accuracy: 330/372 (88.71%)\n",
      "\n",
      "Train Epoch: 74, Average Loss: 0.2904\n",
      "time 0.0 sec:\n",
      "Test set: Average loss: 0.2998, Accuracy: 329/372 (88.44%)\n",
      "\n"
     ]
    },
    {
     "name": "stdout",
     "output_type": "stream",
     "text": [
      "Train Epoch: 75, Average Loss: 0.2840\n",
      "time 0.0 sec:\n",
      "Test set: Average loss: 0.3281, Accuracy: 325/372 (87.37%)\n",
      "\n",
      "Train Epoch: 76, Average Loss: 0.2874\n",
      "time 0.0 sec:\n",
      "Test set: Average loss: 0.3205, Accuracy: 326/372 (87.63%)\n",
      "\n",
      "Train Epoch: 77, Average Loss: 0.2785\n",
      "time 0.0 sec:\n",
      "Test set: Average loss: 0.3052, Accuracy: 329/372 (88.44%)\n",
      "\n",
      "Train Epoch: 78, Average Loss: 0.2746\n",
      "time 0.0 sec:\n",
      "Test set: Average loss: 0.3177, Accuracy: 327/372 (87.90%)\n",
      "\n",
      "Train Epoch: 79, Average Loss: 0.2868\n",
      "time 0.0 sec:\n",
      "Test set: Average loss: 0.3482, Accuracy: 325/372 (87.37%)\n",
      "\n",
      "Train Epoch: 80, Average Loss: 0.2900\n",
      "time 0.0 sec:\n",
      "Test set: Average loss: 0.3056, Accuracy: 330/372 (88.71%)\n",
      "\n",
      "Train Epoch: 81, Average Loss: 0.2707\n",
      "time 0.0 sec:\n",
      "Test set: Average loss: 0.3093, Accuracy: 329/372 (88.44%)\n",
      "\n",
      "Train Epoch: 82, Average Loss: 0.2975\n",
      "time 0.0 sec:\n",
      "Test set: Average loss: 0.3248, Accuracy: 328/372 (88.17%)\n",
      "\n",
      "Train Epoch: 83, Average Loss: 0.2919\n",
      "time 0.0 sec:\n",
      "Test set: Average loss: 0.3059, Accuracy: 332/372 (89.25%)\n",
      "\n",
      "Train Epoch: 84, Average Loss: 0.2755\n",
      "time 0.0 sec:\n",
      "Test set: Average loss: 0.2983, Accuracy: 332/372 (89.25%)\n",
      "\n",
      "Train Epoch: 85, Average Loss: 0.2728\n",
      "time 0.0 sec:\n",
      "Test set: Average loss: 0.2997, Accuracy: 333/372 (89.52%)\n",
      "\n",
      "Train Epoch: 86, Average Loss: 0.2529\n",
      "time 0.0 sec:\n",
      "Test set: Average loss: 0.2916, Accuracy: 331/372 (88.98%)\n",
      "\n",
      "Train Epoch: 87, Average Loss: 0.2518\n",
      "time 0.0 sec:\n",
      "Test set: Average loss: 0.2843, Accuracy: 334/372 (89.78%)\n",
      "\n",
      "Train Epoch: 88, Average Loss: 0.2816\n",
      "time 0.0 sec:\n",
      "Test set: Average loss: 0.3393, Accuracy: 328/372 (88.17%)\n",
      "\n",
      "Train Epoch: 89, Average Loss: 0.3124\n",
      "time 0.0 sec:\n",
      "Test set: Average loss: 0.3355, Accuracy: 328/372 (88.17%)\n",
      "\n",
      "Train Epoch: 90, Average Loss: 0.2807\n",
      "time 0.0 sec:\n",
      "Test set: Average loss: 0.3107, Accuracy: 329/372 (88.44%)\n",
      "\n",
      "Train Epoch: 91, Average Loss: 0.2613\n",
      "time 0.0 sec:\n",
      "Test set: Average loss: 0.2818, Accuracy: 333/372 (89.52%)\n",
      "\n",
      "Train Epoch: 92, Average Loss: 0.2550\n",
      "time 0.0 sec:\n",
      "Test set: Average loss: 0.2779, Accuracy: 335/372 (90.05%)\n",
      "\n",
      "Train Epoch: 93, Average Loss: 0.2496\n",
      "time 0.0 sec:\n",
      "Test set: Average loss: 0.2943, Accuracy: 331/372 (88.98%)\n",
      "\n",
      "Train Epoch: 94, Average Loss: 0.2579\n",
      "time 0.0 sec:\n",
      "Test set: Average loss: 0.2722, Accuracy: 334/372 (89.78%)\n",
      "\n",
      "Train Epoch: 95, Average Loss: 0.2510\n",
      "time 0.0 sec:\n",
      "Test set: Average loss: 0.2986, Accuracy: 333/372 (89.52%)\n",
      "\n",
      "Train Epoch: 96, Average Loss: 0.2512\n",
      "time 0.0 sec:\n",
      "Test set: Average loss: 0.3277, Accuracy: 332/372 (89.25%)\n",
      "\n",
      "Train Epoch: 97, Average Loss: 0.2709\n",
      "time 0.0 sec:\n",
      "Test set: Average loss: 0.2835, Accuracy: 335/372 (90.05%)\n",
      "\n",
      "Train Epoch: 98, Average Loss: 0.2602\n",
      "time 0.0 sec:\n",
      "Test set: Average loss: 0.2824, Accuracy: 334/372 (89.78%)\n",
      "\n",
      "Train Epoch: 99, Average Loss: 0.2597\n",
      "time 0.0 sec:\n",
      "Test set: Average loss: 0.2862, Accuracy: 335/372 (90.05%)\n",
      "\n",
      "Train Epoch: 100, Average Loss: 0.2421\n",
      "time 0.0 sec:\n",
      "Test set: Average loss: 0.2824, Accuracy: 335/372 (90.05%)\n",
      "\n",
      "CPU times: user 8.9 s, sys: 7.28 s, total: 16.2 s\n",
      "Wall time: 15.7 s\n"
     ]
    }
   ],
   "source": [
    "%%time\n",
    "setup_seed(20)\n",
    "# model = Att_CNN().cuda()\n",
    "model = CNN().cuda()\n",
    "L = []\n",
    "test_hist = []\n",
    "optimizer = optim.Adam(model.parameters(), lr=0.001)\n",
    "for epoch in range(1, 100 + 1):\n",
    "    start = time.time()\n",
    "    loss = train(model, train_loader, optimizer, epoch)\n",
    "    L.append(loss)\n",
    "    print(\"time {:.1f} sec:\".format(time.time() - start))\n",
    "    acc = test(model, test_loader)\n",
    "    test_hist.append(acc)"
   ]
  },
  {
   "cell_type": "code",
   "execution_count": 11,
   "metadata": {},
   "outputs": [
    {
     "name": "stdout",
     "output_type": "stream",
     "text": [
      "confusion matrix:\n",
      " [[256  32]\n",
      " [  5  79]]\n",
      "Roc score: 0.9147\n",
      "F1 score: 0.8103\n",
      "              precision    recall  f1-score   support\n",
      "\n",
      "           0       0.98      0.89      0.93       288\n",
      "           1       0.71      0.94      0.81        84\n",
      "\n",
      "    accuracy                           0.90       372\n",
      "   macro avg       0.85      0.91      0.87       372\n",
      "weighted avg       0.92      0.90      0.90       372\n",
      "\n"
     ]
    }
   ],
   "source": [
    "x_test = x_test.cuda()\n",
    "y_test = y_test.cuda()\n",
    "\n",
    "pred = model(x_test)\n",
    "pred = pred.max(1, keepdim=True)[1]\n",
    "correct = pred.eq(y_test.view_as(pred)).sum().item()\n",
    "pred = pred.cpu().numpy().squeeze()\n",
    "\n",
    "summary(pred, y_test.cpu())"
   ]
  },
  {
   "cell_type": "code",
   "execution_count": null,
   "metadata": {},
   "outputs": [],
   "source": []
  },
  {
   "cell_type": "code",
   "execution_count": null,
   "metadata": {},
   "outputs": [],
   "source": []
  },
  {
   "cell_type": "code",
   "execution_count": 131,
   "metadata": {},
   "outputs": [],
   "source": [
    "# 以当天的数据训练的模型 去测试另外一天的数据\n",
    "X = np.load('./X_2_15.npy', allow_pickle=True)\n",
    "Y = np.load('./Y_2_15.npy')"
   ]
  },
  {
   "cell_type": "code",
   "execution_count": 132,
   "metadata": {},
   "outputs": [
    {
     "name": "stderr",
     "output_type": "stream",
     "text": [
      "100%|██████████| 232/232 [00:04<00:00, 47.97it/s]\n"
     ]
    }
   ],
   "source": [
    "# 统一长度\n",
    "new_X=[]\n",
    "for i in range(len(X)):\n",
    "    if X[i][0].shape[0]!=7201:\n",
    "        ex=data_process.data_resample( X[i][0], 7201)\n",
    "        ey=data_process.data_resample( X[i][1], 7201)\n",
    "        ez=data_process.data_resample( X[i][2], 7201)\n",
    "        new_X.append([ex,ey,ez])\n",
    "X=np.array(new_X)\n",
    "feature = []\n",
    "for i in tqdm(range(len(X))):\n",
    "    ex, ey, ez = X[i][0], X[i][1], X[i][2]\n",
    "    iqr_x = data_process.cal_IQR(ex)\n",
    "    iqr_y = data_process.cal_IQR(ey)\n",
    "    iqr_z = data_process.cal_IQR(ez)\n",
    "    zcr_x = data_process.ZCR(ex)\n",
    "    zcr_y = data_process.ZCR(ey)\n",
    "    zcr_z = data_process.ZCR(ez)\n",
    "    cav=data_process.CAV([ex,ey,ez])\n",
    "    feature.append([iqr_x, iqr_y, iqr_z ,zcr_x, zcr_y, zcr_z, cav])\n",
    "feature=np.array(feature)\n",
    "feature=feature[:,:,np.newaxis,:]  "
   ]
  },
  {
   "cell_type": "code",
   "execution_count": 133,
   "metadata": {},
   "outputs": [
    {
     "data": {
      "image/png": "[encoded data removed]",
      "text/plain": [
       "<Figure size 864x504 with 9 Axes>"
      ]
     },
     "metadata": {
      "needs_background": "light"
     },
     "output_type": "display_data"
    }
   ],
   "source": [
    "visualize.draw_picture(X[0], show=True, save_path=None, lim=0.01,save=False)"
   ]
  },
  {
   "cell_type": "code",
   "execution_count": null,
   "metadata": {},
   "outputs": [],
   "source": []
  },
  {
   "cell_type": "code",
   "execution_count": 128,
   "metadata": {},
   "outputs": [
    {
     "data": {
      "text/plain": [
       "(414, 7, 1, 36)"
      ]
     },
     "execution_count": 128,
     "metadata": {},
     "output_type": "execute_result"
    }
   ],
   "source": [
    "feature.shape"
   ]
  },
  {
   "cell_type": "code",
   "execution_count": 129,
   "metadata": {},
   "outputs": [
    {
     "data": {
      "text/plain": [
       "0    370\n",
       "1     44\n",
       "dtype: int64"
      ]
     },
     "execution_count": 129,
     "metadata": {},
     "output_type": "execute_result"
    }
   ],
   "source": [
    "pd.value_counts(Y)"
   ]
  },
  {
   "cell_type": "code",
   "execution_count": null,
   "metadata": {},
   "outputs": [],
   "source": []
  },
  {
   "cell_type": "code",
   "execution_count": 134,
   "metadata": {},
   "outputs": [
    {
     "name": "stdout",
     "output_type": "stream",
     "text": [
      "confusion matrix:\n",
      " [[105   0]\n",
      " [ 57  70]]\n",
      "Roc score: 0.7756\n",
      "F1 score: 0.7107\n",
      "              precision    recall  f1-score   support\n",
      "\n",
      "           0       0.65      1.00      0.79       105\n",
      "           1       1.00      0.55      0.71       127\n",
      "\n",
      "    accuracy                           0.75       232\n",
      "   macro avg       0.82      0.78      0.75       232\n",
      "weighted avg       0.84      0.75      0.74       232\n",
      "\n"
     ]
    }
   ],
   "source": [
    "X = torch.from_numpy(feature).float()\n",
    "Y = torch.from_numpy(Y).long()\n",
    "X = X.cuda()\n",
    "Y = Y.cuda()\n",
    "\n",
    "\n",
    "pred = model(X)\n",
    "pred = pred.max(1, keepdim=True)[1]\n",
    "correct = pred.eq(Y.view_as(pred)).sum().item()\n",
    "pred = pred.cpu().numpy().squeeze()\n",
    "\n",
    "summary(pred, Y.cpu())"
   ]
  },
  {
   "cell_type": "code",
   "execution_count": null,
   "metadata": {},
   "outputs": [],
   "source": []
  },
  {
   "cell_type": "code",
   "execution_count": null,
   "metadata": {},
   "outputs": [],
   "source": []
  },
  {
   "cell_type": "code",
   "execution_count": null,
   "metadata": {},
   "outputs": [],
   "source": []
  }
 ],
 "metadata": {
  "interpreter": {
   "hash": "63fd5069d213b44bf678585dea6b12cceca9941eaf7f819626cde1f2670de90d"
  },
  "kernelspec": {
   "display_name": "Python 3",
   "language": "python",
   "name": "python3"
  },
  "language_info": {
   "codemirror_mode": {
    "name": "ipython",
    "version": 3
   },
   "file_extension": ".py",
   "mimetype": "text/x-python",
   "name": "python",
   "nbconvert_exporter": "python",
   "pygments_lexer": "ipython3",
   "version": "3.8.3"
  },
  "latex_envs": {
   "LaTeX_envs_menu_present": true,
   "autoclose": false,
   "autocomplete": true,
   "bibliofile": "biblio.bib",
   "cite_by": "apalike",
   "current_citInitial": 1,
   "eqLabelWithNumbers": true,
   "eqNumInitial": 1,
   "hotkeys": {
    "equation": "Ctrl-E",
    "itemize": "Ctrl-I"
   },
   "labels_anchors": false,
   "latex_user_defs": false,
   "report_style_numbering": false,
   "user_envs_cfg": false
  },
  "varInspector": {
   "cols": {
    "lenName": 16,
    "lenType": 16,
    "lenVar": 40
   },
   "kernels_config": {
    "python": {
     "delete_cmd_postfix": "",
     "delete_cmd_prefix": "del ",
     "library": "var_list.py",
     "varRefreshCmd": "print(var_dic_list())"
    },
    "r": {
     "delete_cmd_postfix": ") ",
     "delete_cmd_prefix": "rm(",
     "library": "var_list.r",
     "varRefreshCmd": "cat(var_dic_list()) "
    }
   },
   "position": {
    "height": "499.85px",
    "left": "790px",
    "right": "20px",
    "top": "93px",
    "width": "560px"
   },
   "types_to_exclude": [
    "module",
    "function",
    "builtin_function_or_method",
    "instance",
    "_Feature"
   ],
   "window_display": false
  }
 },
 "nbformat": 4,
 "nbformat_minor": 4
}
