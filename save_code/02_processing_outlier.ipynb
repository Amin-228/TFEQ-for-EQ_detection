{
 "cells": [
  {
   "cell_type": "code",
   "execution_count": 2,
   "metadata": {},
   "outputs": [],
   "source": [
    "import numpy as np\n",
    "import pandas as pd\n",
    "import matplotlib.pyplot as plt\n",
    "from scipy import signal\n",
    "from scipy.stats import pearsonr\n",
    "import os\n",
    "from sklearn.cluster import KMeans\n",
    "from sklearn import preprocessing \n",
    "from sklearn.preprocessing import StandardScaler\n",
    "from tqdm import tqdm\n",
    "# from utils import Draw_fig \n",
    "import matplotlib as mpl\n",
    "mpl.rcParams['agg.path.chunksize'] = 10000"
   ]
  },
  {
   "cell_type": "code",
   "execution_count": 3,
   "metadata": {},
   "outputs": [],
   "source": [
    "def extrtact_features(mse, Pxx_den):\n",
    "    # 均值 方差\n",
    "    f_m=np.mean(Pxx_den)\n",
    "    f_std= np.std(Pxx_den)\n",
    "    # 四分位距number of outlier\n",
    "    Q1 = np.percentile(Pxx_den, 25)\n",
    "    Q3 = np.percentile(Pxx_den, 75)\n",
    "    IQR = Q3 - Q1\n",
    "    num_outlier = sum((Pxx_den < (Q1 - 1.5 * IQR)) | (Pxx_den > (Q3 + 1.5 * IQR)))\n",
    "    #MSE\n",
    "    f_mse=sum(np.square(Pxx_den-np.mean(Pxx_den)))/len(Pxx_den)\n",
    "    \n",
    "    p_mse = sum(np.square(Pxx_den - np.mean(Pxx_den))) / len(Pxx_den)\n",
    "    \n",
    "    #Max diff\n",
    "    f_md=np.max(Pxx_den)-np.min(Pxx_den)\n",
    "    return mse,f_m,f_std,IQR,num_outlier,p_mse,f_mse,f_md\n",
    "\n",
    "def save_fig(ex, ey, ez, path, lim=0.01, yline=0.0025):\n",
    "    x_lim=np.arange(0,len(ex),1)\n",
    "    fig, [ax1, ax2, ax3] = plt.subplots(3, 1, sharex=True,figsize=(8, 7))\n",
    "\n",
    "    # ax1.xaxis.set_major_locator(xmajorLocator)\n",
    "    ax1.axhline(y=yline, c=\"green\",  linewidth=0.8)\n",
    "    ax1.axhline(y=-yline, c=\"green\",  linewidth=0.8)\n",
    "    ax1.plot(x_lim, ex, linewidth=0.5)\n",
    "    ax1.set_ylim((-0.01, 0.01))\n",
    "    ax1.set_ylabel('X', fontsize=18)\n",
    "    ax1.grid(True)\n",
    "\n",
    "    # ax2.xaxis.set_major_locator(xmajorLocator)\n",
    "    ax2.axhline(y=yline, c=\"green\",  linewidth=0.8)\n",
    "    ax2.axhline(y=-yline, c=\"green\",  linewidth=0.8)\n",
    "    ax2.plot(x_lim, ey, linewidth=0.5)\n",
    "    ax2.set_ylim((-0.01, 0.01))\n",
    "    ax2.set_ylabel('Y', fontsize=18)\n",
    "    ax2.grid(True)\n",
    "\n",
    "    # ax3.xaxis.set_major_locator(xmajorLocator)\n",
    "    ax3.axhline(y=yline, c=\"green\",  linewidth=0.8)\n",
    "    ax3.axhline(y=-yline, c=\"green\",  linewidth=0.8)\n",
    "    ax3.plot(x_lim, ez, linewidth=0.5)\n",
    "    ax3.set_ylim((-0.01, 0.01))\n",
    "    ax3.set_ylabel('Z', fontsize=18)\n",
    "    ax3.grid(True)\n",
    "    plt.tight_layout()\n",
    "    plt.savefig(path, dpi=100)\n",
    "    plt.clf()\n",
    "    plt.close()"
   ]
  },
  {
   "cell_type": "code",
   "execution_count": 1,
   "metadata": {},
   "outputs": [],
   "source": [
    "fs=100\n",
    "path='/home/Amin/EQ_Place/dataset/EQ_20210829_130323'\n",
    "files=os.listdir(path)\n",
    "files.sort()"
   ]
  },
  {
   "cell_type": "code",
   "execution_count": 4,
   "metadata": {},
   "outputs": [
    {
     "data": {
      "text/plain": [
       "2714"
      ]
     },
     "execution_count": 4,
     "metadata": {},
     "output_type": "execute_result"
    }
   ],
   "source": [
    "len(files)"
   ]
  },
  {
   "cell_type": "code",
   "execution_count": 6,
   "metadata": {},
   "outputs": [
    {
     "name": "stderr",
     "output_type": "stream",
     "text": [
      "  2%|▏         | 59/2714 [00:27<20:41,  2.14it/s]C:\\ProgramData\\Anaconda3\\lib\\site-packages\\ipykernel_launcher.py:24: RuntimeWarning: divide by zero encountered in log10\n",
      "  4%|▎         | 101/2714 [00:46<20:17,  2.15it/s]C:\\ProgramData\\Anaconda3\\lib\\site-packages\\ipykernel_launcher.py:27: RuntimeWarning: divide by zero encountered in log10\n",
      "  4%|▍         | 121/2714 [00:55<18:43,  2.31it/s]C:\\ProgramData\\Anaconda3\\lib\\site-packages\\ipykernel_launcher.py:30: RuntimeWarning: divide by zero encountered in log10\n",
      "100%|██████████| 2714/2714 [26:45<00:00,  1.69it/s]\n",
      "C:\\ProgramData\\Anaconda3\\lib\\site-packages\\ipykernel_launcher.py:38: VisibleDeprecationWarning: Creating an ndarray from ragged nested sequences (which is a list-or-tuple of lists-or-tuples-or ndarrays with different lengths or shapes) is deprecated. If you meant to do this, you must specify 'dtype=object' when creating the ndarray.\n"
     ]
    }
   ],
   "source": [
    "features=[]\n",
    "data=[]\n",
    "for i in tqdm(range(len(files))):\n",
    "    f=files[i]\n",
    "    #read data and substract DC offset\n",
    "    df=pd.read_csv(path+f)\n",
    "    df=np.array(df)[:,:3]\n",
    "    ex,ey,ez=df[:,0],df[:,1],df[:,2]\n",
    "\n",
    "    ex_mse = sum(np.square(ex - np.mean(ex))) / len(ex)\n",
    "    ey_mse = sum(np.square(ey - np.mean(ey))) / len(ey)\n",
    "    ez_mse = sum(np.square(ez - np.mean(ez))) / len(ez)\n",
    "    \n",
    "    ex,ey,ez=ex-np.mean(ex), ey-np.mean(ey), ez-np.mean(ez)\n",
    "    sos = signal.butter(2, 35, 'lowpass',fs=100,output='sos')\n",
    "    ex = signal.sosfilt(sos, ex)\n",
    "    ey = signal.sosfilt(sos, ey)\n",
    "    ez = signal.sosfilt(sos, ez)\n",
    "\n",
    "    data.append([ex,ey,ez])\n",
    "    \n",
    "    #calculate PSD\n",
    "    fre, Pxx_den = signal.periodogram(ex, fs)\n",
    "    Pxx_den=10*np.log10(abs(Pxx_den))[1:]\n",
    "    \n",
    "    fre, Pyy_den = signal.periodogram(ey, fs)\n",
    "    Pyy_den=10*np.log10(abs(Pyy_den))[1:]\n",
    "    \n",
    "    fre, Pzz_den = signal.periodogram(ez, fs)\n",
    "    Pzz_den=10*np.log10(abs(Pzz_den))[1:]\n",
    "    \n",
    "    fx=extrtact_features(ex_mse, Pxx_den)\n",
    "    fy=extrtact_features(ey_mse, Pyy_den)\n",
    "    fz=extrtact_features(ez_mse, Pzz_den)\n",
    "    \n",
    "    features.append([fx,fy,fz])\n",
    "    \n",
    "data=np.array(data)\n",
    "features=np.array(features)\n",
    "features=features.reshape(features.shape[0],-1)"
   ]
  },
  {
   "cell_type": "code",
   "execution_count": null,
   "metadata": {},
   "outputs": [],
   "source": [
    "#聚类： 先异常值处理 进行归一化再进行聚类\n",
    "idx = np.isinf(features)\n",
    "features[idx] = 0 \n",
    "idx = np.isnan(features)\n",
    "features[idx] = 0 \n",
    "\n",
    "ss = StandardScaler()\n",
    "z_f = ss.fit_transform(features)\n",
    "\n",
    "kmeans_model = KMeans(n_clusters=2, random_state=1).fit(z_f)\n",
    "labels = kmeans_model.labels_"
   ]
  },
  {
   "cell_type": "code",
   "execution_count": null,
   "metadata": {},
   "outputs": [],
   "source": [
    "pd.value_counts(labels)"
   ]
  },
  {
   "cell_type": "code",
   "execution_count": 9,
   "metadata": {},
   "outputs": [],
   "source": [
    "np.save('labels_8_29',labels)"
   ]
  },
  {
   "cell_type": "code",
   "execution_count": 30,
   "metadata": {},
   "outputs": [],
   "source": [
    "if not os.path.exists('../processing/3_15'):\n",
    "    os.mkdir('../processing/3_15')"
   ]
  },
  {
   "cell_type": "code",
   "execution_count": 31,
   "metadata": {},
   "outputs": [
    {
     "name": "stderr",
     "output_type": "stream",
     "text": [
      "100%|██████████| 508/508 [05:08<00:00,  1.64it/s]\n"
     ]
    }
   ],
   "source": [
    "if not os.path.exists('../processing/3_15/n'):\n",
    "    os.mkdir(\"../processing/3_15/n\")\n",
    "if not os.path.exists('../processing/3_15/p'):\n",
    "    os.mkdir(\"../processing/3_15/p\")\n",
    "for i in tqdm(range(len(files))):\n",
    "    ex,ey,ez=data[i, 0, :], data[i, 1, :], data[i, 2, :]\n",
    "    \n",
    "    if labels[i] ==1:\n",
    "        filename='C:/ysz/processing/3_15/p/'+files[i][:-4]\n",
    "        save_fig(ex,ey,ez,filename)\n",
    "    else:\n",
    "        filename='C:/ysz/processing/3_15/n/'+files[i][:-4]\n",
    "        save_fig(ex,ey,ez,filename)"
   ]
  },
  {
   "cell_type": "code",
   "execution_count": null,
   "metadata": {},
   "outputs": [],
   "source": []
  },
  {
   "cell_type": "code",
   "execution_count": null,
   "metadata": {},
   "outputs": [],
   "source": []
  },
  {
   "cell_type": "code",
   "execution_count": null,
   "metadata": {},
   "outputs": [],
   "source": []
  }
 ],
 "metadata": {
  "interpreter": {
   "hash": "63fd5069d213b44bf678585dea6b12cceca9941eaf7f819626cde1f2670de90d"
  },
  "kernelspec": {
   "display_name": "Python 3",
   "language": "python",
   "name": "python3"
  },
  "language_info": {
   "codemirror_mode": {
    "name": "ipython",
    "version": 3
   },
   "file_extension": ".py",
   "mimetype": "text/x-python",
   "name": "python",
   "nbconvert_exporter": "python",
   "pygments_lexer": "ipython3",
   "version": "3.8.3"
  },
  "latex_envs": {
   "LaTeX_envs_menu_present": true,
   "autoclose": false,
   "autocomplete": true,
   "bibliofile": "biblio.bib",
   "cite_by": "apalike",
   "current_citInitial": 1,
   "eqLabelWithNumbers": true,
   "eqNumInitial": 1,
   "hotkeys": {
    "equation": "Ctrl-E",
    "itemize": "Ctrl-I"
   },
   "labels_anchors": false,
   "latex_user_defs": false,
   "report_style_numbering": false,
   "user_envs_cfg": false
  },
  "varInspector": {
   "cols": {
    "lenName": 16,
    "lenType": 16,
    "lenVar": 40
   },
   "kernels_config": {
    "python": {
     "delete_cmd_postfix": "",
     "delete_cmd_prefix": "del ",
     "library": "var_list.py",
     "varRefreshCmd": "print(var_dic_list())"
    },
    "r": {
     "delete_cmd_postfix": ") ",
     "delete_cmd_prefix": "rm(",
     "library": "var_list.r",
     "varRefreshCmd": "cat(var_dic_list()) "
    }
   },
   "types_to_exclude": [
    "module",
    "function",
    "builtin_function_or_method",
    "instance",
    "_Feature"
   ],
   "window_display": false
  }
 },
 "nbformat": 4,
 "nbformat_minor": 2
}
