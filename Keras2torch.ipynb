{
 "cells": [
  {
   "cell_type": "code",
   "execution_count": 2,
   "id": "00709877",
   "metadata": {
    "ExecuteTime": {
     "end_time": "2022-05-16T11:47:27.592305Z",
     "start_time": "2022-05-16T11:47:27.090586Z"
    }
   },
   "outputs": [],
   "source": [
    "from torch._C import device\n",
    "import torch\n",
    "import torch.nn as nn\n",
    "import torch.nn.functional as F\n",
    "import sys \n",
    "from torchsummary import summary\n",
    "import math"
   ]
  },
  {
   "cell_type": "code",
   "execution_count": 18,
   "id": "66168666",
   "metadata": {},
   "outputs": [],
   "source": [
    "class Conv_com(nn.Module):\n",
    "    def __init__(self, ):\n",
    "        super(Conv_com, self).__init__()\n",
    "        self.conv_1 = nn.Conv1d(in_channels=1,  out_channels=32, kernel_size=3, stride=2)\n",
    "        self.conv_2 = nn.Conv1d(in_channels=32, out_channels=32, kernel_size=3, stride=2)\n",
    "        self.conv_3 = nn.Conv1d(in_channels=32, out_channels=32, kernel_size=3)\n",
    "        self.MaxPool = nn.MaxPool1d(2)\n",
    "        self.Flatten = torch.nn.Flatten()\n",
    "\n",
    "    def forward(self, x):\n",
    "        out = F.relu(self.conv_1(x))\n",
    "        out = F.relu(self.conv_2(out))\n",
    "        out = F.relu(self.conv_3(out))\n",
    "        out = self.MaxPool(out)\n",
    "        out = self.Flatten(out)\n",
    "        return out\n",
    "\n",
    "\n",
    "class CRNN(nn.Module):\n",
    "    def __init__(self, ):\n",
    "        super(CRNN, self).__init__()\n",
    "        self.conv_x = Conv_com()\n",
    "        self.conv_y = Conv_com()\n",
    "        self.conv_z = Conv_com()\n",
    "        self.rnn = nn.RNN(input_size=2208, hidden_size=64)\n",
    "        self.fla = nn.Flatten()\n",
    "        self.fc1 = nn.Linear(64, 100)\n",
    "        self.fc2 = nn.Linear(100, 2)\n",
    "\n",
    "    def forward(self, data):\n",
    "        x, y, z = data[:, 0, :], data[:, 1, :], data[:, 2, :]\n",
    "        x = x.view(-1, 1, x.shape[-1])\n",
    "        y = y.view(-1, 1, y.shape[-1])\n",
    "        z = z.view(-1, 1, z.shape[-1])\n",
    "        x_out = self.conv_x(x)\n",
    "        y_out = self.conv_y(y)\n",
    "        z_out = self.conv_z(z)\n",
    "        new_feature = torch.cat([x_out, y_out, z_out], dim=1)\n",
    "        new_feature = new_feature.view(-1, 1, new_feature.shape[-1])\n",
    "        out, _ = self.rnn(new_feature)\n",
    "        out = self.fla(out)\n",
    "        out = F.relu(self.fc1(out))\n",
    "        out = self.fc2(out)\n",
    "        return F.log_softmax(out, dim=1)"
   ]
  },
  {
   "cell_type": "code",
   "execution_count": 19,
   "id": "7fa98c39",
   "metadata": {},
   "outputs": [
    {
     "data": {
      "text/plain": [
       "torch.Size([128, 2])"
      ]
     },
     "execution_count": 19,
     "metadata": {},
     "output_type": "execute_result"
    }
   ],
   "source": [
    "model=CRNN()\n",
    "\n",
    "data_in = torch.randn(128,3, 200)\n",
    "model(data_in).shape"
   ]
  },
  {
   "cell_type": "code",
   "execution_count": null,
   "id": "43738f43",
   "metadata": {},
   "outputs": [],
   "source": []
  },
  {
   "cell_type": "code",
   "execution_count": null,
   "id": "f3822a9c",
   "metadata": {},
   "outputs": [],
   "source": []
  },
  {
   "cell_type": "code",
   "execution_count": null,
   "id": "0507aa20",
   "metadata": {},
   "outputs": [],
   "source": []
  },
  {
   "cell_type": "code",
   "execution_count": 3,
   "id": "f8aea4df",
   "metadata": {
    "ExecuteTime": {
     "end_time": "2022-05-16T11:47:43.883640Z",
     "start_time": "2022-05-16T11:47:43.854955Z"
    }
   },
   "outputs": [],
   "source": [
    "# Attention \n",
    "\n",
    "class Value(torch.nn.Module):\n",
    "    def __init__(self, dim_input, dim_val):\n",
    "        super(Value, self).__init__()\n",
    "        self.dim_val = dim_val\n",
    "        \n",
    "        self.fc1 = nn.Linear(dim_input, dim_val, bias = False)\n",
    "        #self.fc2 = nn.Linear(5, dim_val)\n",
    "    \n",
    "    def forward(self, x):\n",
    "        x = self.fc1(x)\n",
    "        #x = self.fc2(x)\n",
    "        \n",
    "        return x\n",
    "\n",
    "class Key(torch.nn.Module):\n",
    "    def __init__(self, dim_input, dim_attn):\n",
    "        super(Key, self).__init__()\n",
    "        self.dim_attn = dim_attn\n",
    "        \n",
    "        self.fc1 = nn.Linear(dim_input, dim_attn, bias = False)\n",
    "        #self.fc2 = nn.Linear(5, dim_attn)\n",
    "    \n",
    "    def forward(self, x):\n",
    "        x = self.fc1(x)\n",
    "        #x = self.fc2(x)\n",
    "        \n",
    "        return x\n",
    "\n",
    "class Query(torch.nn.Module):\n",
    "    def __init__(self, dim_input, dim_attn):\n",
    "        super(Query, self).__init__()\n",
    "        self.dim_attn = dim_attn\n",
    "        \n",
    "        self.fc1 = nn.Linear(dim_input, dim_attn, bias = False)\n",
    "        #self.fc2 = nn.Linear(5, dim_attn)\n",
    "    \n",
    "    def forward(self, x):\n",
    "        \n",
    "        x = self.fc1(x)\n",
    "        #print(x.shape)\n",
    "        #x = self.fc2(x)\n",
    "        \n",
    "        return x\n",
    "\n",
    "\n",
    "def a_norm(Q, K):\n",
    "    m = torch.matmul(Q, K.transpose(2,1).float())\n",
    "    m /= torch.sqrt(torch.tensor(Q.shape[-1]).float())\n",
    "    \n",
    "    return torch.softmax(m , -1)\n",
    "\n",
    "\n",
    "def attention(Q, K, V):\n",
    "    #Attention(Q, K, V) = norm(QK)V\n",
    "    a = a_norm(Q, K) #(batch_size, dim_attn, seq_length)\n",
    "    \n",
    "    return  torch.matmul(a,  V) #(batch_size, seq_length, seq_length)\n",
    "\n",
    "class AttentionBlock(torch.nn.Module):\n",
    "    def __init__(self, dim_val, dim_attn):\n",
    "        super(AttentionBlock, self).__init__()\n",
    "        self.value = Value(dim_val, dim_val)\n",
    "        self.key = Key(dim_val, dim_attn)\n",
    "        self.query = Query(dim_val, dim_attn)\n",
    "    \n",
    "    def forward(self, x, kv = None):\n",
    "        if(kv is None):\n",
    "            #Attention with x connected to Q,K and V (For encoder)\n",
    "            return attention(self.query(x), self.key(x), self.value(x))\n",
    "        \n",
    "        #Attention with x as Q, external vector kv as K an V (For decoder)\n",
    "        return attention(self.query(x), self.key(kv), self.value(kv))\n",
    "\n",
    "class MultiHeadAttentionBlock(torch.nn.Module):\n",
    "    def __init__(self, dim_val, dim_attn, n_heads):\n",
    "        super(MultiHeadAttentionBlock, self).__init__()\n",
    "        self.heads = []\n",
    "        for i in range(n_heads):\n",
    "            self.heads.append(AttentionBlock(dim_val, dim_attn))\n",
    "        self.heads = nn.ModuleList(self.heads)  \n",
    "        self.fc = nn.Linear(n_heads * dim_val, dim_val, bias = False)\n",
    "    def forward(self, x, kv = None):\n",
    "        a = []\n",
    "        for h in self.heads:\n",
    "            a.append(h(x, kv = kv))  \n",
    "        a = torch.stack(a, dim = -1) #combine heads\n",
    "        a = a.flatten(start_dim = 2) #flatten all head outputs\n",
    "        x = self.fc(a)\n",
    "        return x"
   ]
  },
  {
   "cell_type": "code",
   "execution_count": 13,
   "id": "0c28e57c",
   "metadata": {
    "ExecuteTime": {
     "end_time": "2022-05-16T10:40:34.427603Z",
     "start_time": "2022-05-16T10:40:34.392795Z"
    }
   },
   "outputs": [
    {
     "name": "stdout",
     "output_type": "stream",
     "text": [
      "conv_x1 shape:  torch.Size([1, 32, 99])\n",
      "msattn shape:  torch.Size([1, 99, 32])\n",
      "conv2 shape:  torch.Size([1, 32, 49])\n",
      "conv3 shape:  torch.Size([1, 32, 47])\n",
      "MaxPool shape:  torch.Size([1, 32, 23])\n",
      "Flatten shape:  torch.Size([1, 736])\n"
     ]
    }
   ],
   "source": [
    "# 测试案例\n",
    "\n",
    "data_in = torch.randn(1, 1, 200)  # [Batch,input channel,len]\n",
    "\n",
    "conv_x1 = nn.Conv1d(\n",
    "    in_channels=1,\n",
    "    out_channels=32,\n",
    "    kernel_size=3,\n",
    "    stride=2,\n",
    ")\n",
    "msattn = MultiHeadAttentionBlock(dim_val=32, dim_attn=4, n_heads=8)\n",
    "conv_x2 = nn.Conv1d(in_channels=32, out_channels=32, kernel_size=3, stride=2)\n",
    "conv_x3 = nn.Conv1d(in_channels=32, out_channels=32, kernel_size=3)\n",
    "dropout = nn.Dropout(p=0.5)\n",
    "MaxPool = nn.MaxPool1d(2)\n",
    "Flatten = torch.nn.Flatten()\n",
    "\n",
    "out = F.relu(conv_x1(data_in))\n",
    "print('conv_x1 shape: ', out.shape)\n",
    "\n",
    "###  attention\n",
    "out = out.permute(0, 2, 1)  # [Batch,hidden,len] -> [Batch,len,hidden]\n",
    "out = msattn(out)\n",
    "print('msattn shape: ', out.shape)\n",
    "out = out.permute(0, 2, 1)\n",
    "###  attention\n",
    "\n",
    "out = F.relu(conv_x2(out))\n",
    "print('conv2 shape: ', out.shape)\n",
    "out = F.relu(conv_x3(out))\n",
    "print('conv3 shape: ', out.shape)\n",
    "out = dropout(out)\n",
    "out = MaxPool(out)\n",
    "print('MaxPool shape: ', out.shape)\n",
    "out = Flatten(out)\n",
    "print('Flatten shape: ', out.shape)"
   ]
  },
  {
   "cell_type": "code",
   "execution_count": 50,
   "id": "f305ca63",
   "metadata": {
    "ExecuteTime": {
     "end_time": "2022-05-16T09:27:47.382581Z",
     "start_time": "2022-05-16T09:27:47.359024Z"
    }
   },
   "outputs": [],
   "source": [
    "data_in = torch.randn(1,3, 200)\n",
    "\n",
    "class Conv3(nn.Module):\n",
    "    def __init__(self,):\n",
    "        super(Conv3, self).__init__()\n",
    "        \n",
    "        self.conv_1 =nn.Conv1d(in_channels=1,out_channels=32,kernel_size=3,stride=2)\n",
    "        self.msattn = MultiHeadAttentionBlock(dim_val=32, dim_attn=4, n_heads=8)\n",
    "        self.conv_2 =nn.Conv1d(in_channels=32,out_channels=32,kernel_size=3,stride=2)\n",
    "        self.conv_3 =nn.Conv1d(in_channels=32,out_channels=32,kernel_size=3)\n",
    "#         self.dropout = nn.Dropout(p=0.5) \n",
    "        self.MaxPool = nn.MaxPool1d(2)\n",
    "        self.Flatten = torch.nn.Flatten()\n",
    "\n",
    "    def forward(self, x):\n",
    "        out = F.relu(self.conv_1(x))\n",
    "        print('conv_x1 shape: ',out.shape)\n",
    "\n",
    "        ###  attention\n",
    "        out = out.permute(0,2,1)  # [Batch,hidden,len] -> [Batch,len,hidden]\n",
    "        out = self.msattn(out)\n",
    "        print('msattn shape: ',out.shape)\n",
    "        out = out.permute(0,2,1)\n",
    "        ### attention\n",
    "\n",
    "        out = F.relu(self.conv_2(out))\n",
    "        print('conv2 shape: ',out.shape)\n",
    "        out = F.relu(self.conv_3(out))\n",
    "        print('conv3 shape: ',out.shape)\n",
    "        out = self.dropout(out)\n",
    "        out = self.MaxPool(out)\n",
    "        print('MaxPool shape: ',out.shape)\n",
    "        out = self.Flatten(out)\n",
    "        print('Flatten shape: ',out.shape)\n",
    "\n",
    "        return x\n",
    "\n",
    "class Net(nn.Module):\n",
    "    def __init__(self, ):\n",
    "        super(Net, self).__init__()    \n",
    "        self.conv_x = Conv3()\n",
    "        self.conv_y = Conv3()\n",
    "        self.conv_z = Conv3()\n",
    "        \n",
    "    def forward(self, x):\n",
    "        # input shape:  [batch,channel,len]\n",
    "        x_out = self.conv_x(x)\n",
    "        y_out = self.conv_y(y)\n",
    "        z_out = self.conv_z(z)\n",
    "        \n",
    "    return x_out,y_out,z_out"
   ]
  },
  {
   "cell_type": "code",
   "execution_count": null,
   "id": "292adf0d",
   "metadata": {
    "scrolled": true
   },
   "outputs": [],
   "source": []
  },
  {
   "cell_type": "code",
   "execution_count": null,
   "id": "902fc86b",
   "metadata": {},
   "outputs": [],
   "source": []
  },
  {
   "cell_type": "code",
   "execution_count": 86,
   "id": "064a05af",
   "metadata": {},
   "outputs": [],
   "source": []
  }
 ],
 "metadata": {
  "kernelspec": {
   "display_name": "Python 3 (ipykernel)",
   "language": "python",
   "name": "python3"
  },
  "language_info": {
   "codemirror_mode": {
    "name": "ipython",
    "version": 3
   },
   "file_extension": ".py",
   "mimetype": "text/x-python",
   "name": "python",
   "nbconvert_exporter": "python",
   "pygments_lexer": "ipython3",
   "version": "3.9.7"
  },
  "varInspector": {
   "cols": {
    "lenName": 16,
    "lenType": 16,
    "lenVar": 40
   },
   "kernels_config": {
    "python": {
     "delete_cmd_postfix": "",
     "delete_cmd_prefix": "del ",
     "library": "var_list.py",
     "varRefreshCmd": "print(var_dic_list())"
    },
    "r": {
     "delete_cmd_postfix": ") ",
     "delete_cmd_prefix": "rm(",
     "library": "var_list.r",
     "varRefreshCmd": "cat(var_dic_list()) "
    }
   },
   "types_to_exclude": [
    "module",
    "function",
    "builtin_function_or_method",
    "instance",
    "_Feature"
   ],
   "window_display": false
  }
 },
 "nbformat": 4,
 "nbformat_minor": 5
}
